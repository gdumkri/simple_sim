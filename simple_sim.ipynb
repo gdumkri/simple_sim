{
 "cells": [
  {
   "cell_type": "code",
   "execution_count": 1,
   "id": "f0e3c1af-3f7c-4f7c-9cea-276b400f46ef",
   "metadata": {},
   "outputs": [],
   "source": [
    "total_size_hc = total_size_pth = 100\n",
    "pre_mean = 20\n",
    "pre_sd = 1.5\n",
    "pre_min = 15\n",
    "pre_max = 28\n",
    "post_min = 0\n",
    "post_max = 28\n",
    "natural_variability_mean = 0\n",
    "natural_variability_sd =0.5\n",
    "\n",
    "natural_improvement_min_pct = 0.50 \n",
    "natural_improvement_max_pct = 1\n",
    "natural_improvers_pct =0.25 # .25\n",
    "\n",
    "#this isnt' really hc vs pth, this would be all pth treated vs untreated but here ... \n",
    "treated_pct = 1\n",
    "treatment_improvement_mean = .2\n",
    "treatment_improvement_sd = .15\n",
    "#treatment_improvement_min_pct = 0.0#250 \n",
    "#treatment_improvement_max_pct = 1\n",
    "n_replications<-1000\n",
    "#should it be like a zero inflated? chance of response and then response? \n",
    "model_parameters<-c(total_size_hc,  pre_mean, pre_sd,pre_min,pre_max, post_min,post_max, natural_variability_mean, natural_variability_sd,\n",
    "  natural_improvement_min_pct, natural_improvement_max_pct, natural_improvers_pct, treated_pct, treatment_improvement_mean,\n",
    "  treatment_improvement_sd,n_replications)\n",
    "  \n",
    "simulation<-function(){\n",
    "    d1 = data.frame(cbind(\"group\" = c(rep(\"hc\",total_size_hc),rep(\"pth\",total_size_pth)), \"pre\" =base_frequency_fun(total_size_pth+total_size_hc)))\n",
    "    names(d1)<-c(\"group\",\"pre\")\n",
    "    d1$pre<-as.numeric(d1$pre)\n",
    "    d1['natural_improver']<-0\n",
    "    d1[sample(seq(1,dim(d1)[1]),dim(d1)[1]*natural_improvers_pct),'natural_improver']<-1\n",
    "    d1['intervention']<-0\n",
    "    d1[sample(row.names(subset(d1, group == \"pth\")),treated_pct *total_size_pth),'intervention']<-1\n",
    "    \n",
    "    d1[\"post\"]<-apply(d1, 1, natural_variability_fun, \"pre\")\n",
    "    \n",
    "    if(sum(d1$intervention) >0){\n",
    "      d1[d1$intervention ==1,\"post\"]<-apply(d1[d1$intervention ==1,],1,intervention_improvement_fun, \"post\")\n",
    "    }else{\n",
    "      print('no intervention')\n",
    "    }\n",
    "    if(sum(d1$natural_improver) >0){\n",
    "      d1[d1$natural_improver == 1,\"post\"]<-apply(d1[d1$natural_improver == 1 ,], 1, natural_improvement_fun, \"post\")\n",
    "    }\n",
    "    if(sum(1- d1$natural_improver) >0){\n",
    "      d1[d1$natural_improver == 0,\"post\"]<-apply(d1[d1$natural_improver == 0 ,], 1, natural_variability_fun, \"post\")\n",
    "    }\n",
    "    d1['change']<-d1$pre - d1$post\n",
    "    d1['change_pct']<-d1$change/d1$pre\n",
    "    c(as.numeric(unlist(aggregate(change ~ group, d1, mean))[3:4]),\n",
    "      t.test( subset(d1, group == \"pth\")$change, subset(d1, group == \"hc\")$change, alternative = \"greater\")$p.value,\n",
    "      model_parameters)\n",
    "}\n",
    "\n",
    "\n",
    "\n",
    "base_frequency_fun<-function(sz){\n",
    "  vls<-do.call(rbind,lapply(seq(1,sz,1), FUN = function(normally_distributed_value = NA){\n",
    "  while (is.na(normally_distributed_value) || normally_distributed_value < pre_min || normally_distributed_value > pre_max) {\n",
    "    normally_distributed_value <- rnorm(1, mean = pre_mean, sd = pre_sd)\n",
    "  }\n",
    "    round(normally_distributed_value,0)\n",
    "    }))\n",
    "  vls\n",
    "}\n",
    "\n",
    "\n",
    "natural_improvement_fun<-function(x,var){\n",
    "  #gives a % improvement\n",
    "  xx = as.numeric(x[[var]])\n",
    "  max(0,round(xx - xx*runif(1,natural_improvement_min_pct, natural_improvement_max_pct),0))\n",
    "}\n",
    "\n",
    "\n",
    "\n",
    "natural_variability_fun<-function(x, var){\n",
    "  #gives a number \n",
    "  xx = as.numeric(x[[var]])\n",
    "  min(max(0,round(xx + rnorm(1,natural_variability_mean, natural_variability_sd)),0),28)\n",
    "}\n",
    "\n",
    "#should intervention make natural decrease even more? \n",
    "intervention_improvement_fun<-function(x,var){\n",
    "  #gives a % improvement\n",
    "  xx = as.numeric(x[[var]])\n",
    "  max(0,round(xx - xx*rnorm(1,treatment_improvement_mean, treatment_improvement_sd),0))\n",
    "}\n"
   ]
  },
  {
   "cell_type": "code",
   "execution_count": 2,
   "id": "9d7a217b-54fa-44d3-bfac-defe0ef16571",
   "metadata": {},
   "outputs": [
    {
     "data": {
      "text/html": [
       "0.94731"
      ],
      "text/latex": [
       "0.94731"
      ],
      "text/markdown": [
       "0.94731"
      ],
      "text/plain": [
       "[1] 0.94731"
      ]
     },
     "metadata": {},
     "output_type": "display_data"
    },
    {
     "data": {
      "text/html": [
       "0.331887055188059"
      ],
      "text/latex": [
       "0.331887055188059"
      ],
      "text/markdown": [
       "0.331887055188059"
      ],
      "text/plain": [
       "[1] 0.3318871"
      ]
     },
     "metadata": {},
     "output_type": "display_data"
    },
    {
     "data": {
      "text/plain": [
       "\n",
       "FALSE  TRUE \n",
       "   97   903 "
      ]
     },
     "metadata": {},
     "output_type": "display_data"
    }
   ],
   "source": [
    "res<-as.data.frame(t(replicate(n_replications,simulation())))\n",
    "names(res)<-c(\"change_ctrl\",\"change_intervention\",\"p.value\", \"total_size_hc\",  \"pre_mean\", \"pre_sd\",\"pre_min\",\"pre_max\", \"post_min\",\n",
    "              \"post_max\", \"natural_variability_mean\", \"natural_variability_sd\",\n",
    "              \"natural_improvement_min_pct\", \"natural_improvement_max_pct\", \"natural_improvers_pct\", \"treated_pct\", \"treatment_improvement_mean\",\n",
    "              \"treatment_improvement_sd\",\"n_replications\" )\n",
    "res['treatment_effect']<-res$change_intervention - res$change_ctrl\n",
    "\n",
    "mean(res$treatment_effect)\n",
    "mean(res$treatment_effect)  - 2*sd(res$treatment_effect)\n",
    "table(res$p.value<=0.05)\n",
    "#write.csv(res, paste(\"C:/Users/m090652/OneDrive - Mayo Clinic/H_Mig/Fisher Dodick AI/simulation pth id/pct_natural_\",natural_improvers_pct,\".csv\",sep = \"\"), row.names = FALSE)\n",
    "#\n"
   ]
  },
  {
   "cell_type": "code",
   "execution_count": null,
   "id": "0bfa28c0-6ac5-4384-abbe-4044988754c0",
   "metadata": {},
   "outputs": [],
   "source": []
  }
 ],
 "metadata": {
  "kernelspec": {
   "display_name": "R",
   "language": "R",
   "name": "ir"
  },
  "language_info": {
   "codemirror_mode": "r",
   "file_extension": ".r",
   "mimetype": "text/x-r-source",
   "name": "R",
   "pygments_lexer": "r",
   "version": "3.6.1"
  }
 },
 "nbformat": 4,
 "nbformat_minor": 5
}
