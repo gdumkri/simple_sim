{
 "cells": [
  {
   "cell_type": "code",
   "execution_count": 1,
   "id": "de4ce677-ea3e-4e23-b5ca-a9c5dee6aa9f",
   "metadata": {},
   "outputs": [],
   "source": [
    "  \n",
    "simulation<-function(){\n",
    "    d1 = data.frame(cbind(\"group\" = c(rep(\"ctrl\",total_size_ctrl),rep(\"pth\",total_size_pth)), \"pre\" =base_frequency_fun(total_size_pth+total_size_ctrl)))\n",
    "    names(d1)<-c(\"group\",\"pre\")\n",
    "    d1$pre<-as.numeric(d1$pre)\n",
    "    d1['natural_improver']<-0\n",
    "    d1[sample(seq(1,dim(d1)[1]),dim(d1)[1]*natural_improvers_pct),'natural_improver']<-1\n",
    "    d1['intervention']<-0\n",
    "    d1[sample(row.names(subset(d1, group == \"pth\")),treated_pct *total_size_pth),'intervention']<-1\n",
    "    \n",
    "    d1[\"post\"]<-apply(d1, 1, natural_variability_fun, \"pre\")\n",
    "    \n",
    "    if(sum(d1$intervention) >0){\n",
    "      d1[d1$intervention ==1,\"post\"]<-apply(d1[d1$intervention ==1,],1,intervention_improvement_fun, \"post\")\n",
    "    }else{\n",
    "      print('no intervention')\n",
    "    }\n",
    "    if(sum(d1$natural_improver) >0){\n",
    "      d1[d1$natural_improver == 1,\"post\"]<-apply(d1[d1$natural_improver == 1 ,], 1, natural_improvement_fun, \"post\")\n",
    "    }\n",
    "    if(sum(1- d1$natural_improver) >0){\n",
    "      d1[d1$natural_improver == 0,\"post\"]<-apply(d1[d1$natural_improver == 0 ,], 1, natural_variability_fun, \"post\")\n",
    "    }\n",
    "    d1['change']<-d1$pre - d1$post\n",
    "    d1['change_pct']<-d1$change/d1$pre\n",
    "    c(as.numeric(unlist(aggregate(change ~ group, d1, mean))[3:4]),\n",
    "      t.test( subset(d1, group == \"pth\")$change, subset(d1, group == \"ctrl\")$change, alternative = \"greater\")$p.value,\n",
    "      model_parameters)\n",
    "}\n",
    "\n",
    "\n",
    "\n",
    "base_frequency_fun<-function(sz){\n",
    "  vls<-do.call(rbind,lapply(seq(1,sz,1), FUN = function(normally_distributed_value = NA){\n",
    "  while (is.na(normally_distributed_value) || normally_distributed_value < pre_min || normally_distributed_value > pre_max) {\n",
    "    normally_distributed_value <- rnorm(1, mean = pre_mean, sd = pre_sd)\n",
    "  }\n",
    "    round(normally_distributed_value,0)\n",
    "    }))\n",
    "  vls\n",
    "}\n",
    "\n",
    "\n",
    "natural_improvement_fun<-function(x,var){\n",
    "  #gives a % improvement\n",
    "  xx = as.numeric(x[[var]])\n",
    "  max(0,round(xx - xx*runif(1,natural_improvement_min_pct, natural_improvement_max_pct),0))\n",
    "}\n",
    "\n",
    "\n",
    "\n",
    "natural_variability_fun<-function(x, var){\n",
    "  #gives a number \n",
    "  xx = as.numeric(x[[var]])\n",
    "  min(max(0,round(xx + rnorm(1,natural_variability_mean, natural_variability_sd)),0),28)\n",
    "}\n",
    "\n",
    "#should intervention make natural decrease even more? \n",
    "intervention_improvement_fun<-function(x,var){\n",
    "  #gives a % improvement\n",
    "  xx = as.numeric(x[[var]])\n",
    "  max(0,round(xx - xx*rnorm(1,treatment_improvement_mean, treatment_improvement_sd),0))\n",
    "}"
   ]
  },
  {
   "cell_type": "code",
   "execution_count": 6,
   "id": "4e3637e9-696f-43ef-b89f-e94e02d9fd3e",
   "metadata": {},
   "outputs": [
    {
     "name": "stdout",
     "output_type": "stream",
     "text": [
      "\n",
      "mean treatment effect:  0.94242lower limit of treatment effect 0.2961397\n",
      "how many trials give positive results?/n "
     ]
    },
    {
     "data": {
      "text/plain": [
       "\n",
       "FALSE  TRUE \n",
       "  102   898 "
      ]
     },
     "metadata": {},
     "output_type": "display_data"
    }
   ],
   "source": [
    "total_size_ctrl = total_size_pth = 100\n",
    "#baseline headache frequency parameters\n",
    "pre_mean = 20\n",
    "pre_sd = 1.5\n",
    "pre_min = 15\n",
    "pre_max = 28\n",
    "\n",
    "#post treatment headache frequency limits\n",
    "post_min = 0\n",
    "post_max = 28\n",
    "\n",
    "#natural variability. probably this should have a slightly negative mean\n",
    "natural_variability_mean = 0\n",
    "natural_variability_sd =0.5\n",
    "\n",
    "#parameters describing those who naturally resolve\n",
    "natural_improvement_min_pct = 0.50 \n",
    "natural_improvement_max_pct = 1\n",
    "natural_improvers_pct =0.25 # .25\n",
    "\n",
    "#treatment parameters\n",
    "treated_pct = 1\n",
    "treatment_improvement_mean = .2\n",
    "treatment_improvement_sd = .15\n",
    "\n",
    "n_replications<-1000\n",
    "#should it be like a zero inflated? chance of response and then response? \n",
    "model_parameters<-c(total_size_ctrl,  pre_mean, pre_sd,pre_min,pre_max, post_min,post_max, natural_variability_mean, natural_variability_sd,\n",
    "  natural_improvement_min_pct, natural_improvement_max_pct, natural_improvers_pct, treated_pct, treatment_improvement_mean,\n",
    "  treatment_improvement_sd,n_replications)\n",
    "\n",
    "res<-as.data.frame(t(replicate(n_replications,simulation())))\n",
    "names(res)<-c(\"change_ctrl\",\"change_intervention\",\"p.value\", \"total_size_ctrl\",  \"pre_mean\", \"pre_sd\",\"pre_min\",\"pre_max\", \"post_min\",\n",
    "              \"post_max\", \"natural_variability_mean\", \"natural_variability_sd\",\n",
    "              \"natural_improvement_min_pct\", \"natural_improvement_max_pct\", \"natural_improvers_pct\", \"treated_pct\", \"treatment_improvement_mean\",\n",
    "              \"treatment_improvement_sd\",\"n_replications\" )\n",
    "res['treatment_effect']<-res$change_intervention - res$change_ctrl\n",
    "\n",
    "cat(\"\\nmean treatment effect: \", mean(res$treatment_effect))\n",
    "cat(\"\\nlower limit of treatment effect\", mean(res$treatment_effect)  - 2*sd(res$treatment_effect))\n",
    "cat(\"\\nhow many trials give positive results? \")\n",
    "table(res$p.value<=0.05)\n",
    "# "
   ]
  },
  {
   "cell_type": "code",
   "execution_count": null,
   "id": "0bfa28c0-6ac5-4384-abbe-4044988754c0",
   "metadata": {},
   "outputs": [],
   "source": [
    "#you can ask it to save results with write.csv(res, filepath) where filepath is where and the file name you want to save to "
   ]
  },
  {
   "cell_type": "code",
   "execution_count": null,
   "id": "61c6b95d-c2e6-4ec0-81b3-f760772ad1a8",
   "metadata": {},
   "outputs": [],
   "source": []
  }
 ],
 "metadata": {
  "kernelspec": {
   "display_name": "R",
   "language": "R",
   "name": "ir"
  },
  "language_info": {
   "codemirror_mode": "r",
   "file_extension": ".r",
   "mimetype": "text/x-r-source",
   "name": "R",
   "pygments_lexer": "r",
   "version": "3.6.1"
  }
 },
 "nbformat": 4,
 "nbformat_minor": 5
}
